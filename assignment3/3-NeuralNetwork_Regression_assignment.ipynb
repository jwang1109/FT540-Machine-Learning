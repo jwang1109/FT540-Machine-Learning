{
 "cells": [
  {
   "cell_type": "markdown",
   "id": "f3ab9b3c-432a-4e97-8555-f4ed7c4c61f2",
   "metadata": {
    "tags": []
   },
   "source": [
    "# Third Assignment - FINTECH 540 - Machine Learning for FinTech - Volatility Forecasting with Neural Networks\n",
    "\n",
    "In this assignment, you will implement a neural network architecture for volatility forecasting. The primary objective of this regression task is to achieve a satisfactory performance on the test set (out-of-sample).\n",
    "\n",
    "## Some context about volatility\n",
    "In finance, volatility is one of the most important factors to consider to make appropriate decisions. Volatility is a measure of the variation of prices for a given stock or a market index over some time. Low volatility indicates relatively stable stock prices, while high volatility is associated with wild price fluctuations associated with a risky market. Volatility is particularly significant in several financial activities, such as risk and portfolio management or derivative pricing.\n",
    "\n",
    "Volatility refers to the degree of fluctuation of the price of an asset. It is not directly observable, and different definitions in the financial domain are used to measure it.\n",
    "\n",
    "We can distinguish between the following types of volatility:\n",
    "\n",
    "- Historical volatility\n",
    "- Implied volatility\n",
    "- Volatility index\n",
    "- Intraday volatility\n",
    "- Realized volatility\n",
    "\n",
    "**Historical Volatility**\n",
    "\n",
    "Historical volatility measures the past price changes of an underlying financial instrument over a given period. It is usually defined as the standard deviation of returns, which is obtained by calculating the variance as follows:\n",
    "\n",
    "$$\\sigma^2=\\left(E\\left[|r-\\mu|^2\\right]\\right)^{1 / 2}$$\n",
    "\n",
    "\n",
    "Here,  $\\mu$ stands for the expected value, $r$ represents the returns over a given period, and  $\\bar{x}$ is the mean price in the same period. Historical volatility may be used to predict future price movements based on previous behavior, but it does not provide insights regarding the future trend or direction of prices.\n",
    "\n",
    "**Implied Volatility**\n",
    "\n",
    "Implied volatility isn't calculated from the historical prices of the stock but instead estimates the future volatility by looking at the market price of the options. Whereas historical volatility is static for a fixed given period, implied volatility varies for a stock based on different options strike prices.\n",
    "\n",
    "Implied volatility is calculated by applying the Black-Scholes option pricing model. This partial differential equation describes the price of an option over time and solving it for the value of volatility. There are several approaches to calculating the implied volatility, with the iterative search being the most straightforward method.\n",
    "\n",
    "Implied volatility is a critical parameter in option pricing since it provides a forward-looking estimation of possible future price fluctuations.\n",
    "\n",
    "**Volatility Index**\n",
    "\n",
    "The volatility index is a measure of volatility applied to a market index or its exchange-traded fund equivalent. There are several volatility indexes quoted in financial markets, with the Chicago Board Options Exchange (CBOE) Volatility Index (VIX) being the most popular one.\n",
    "\n",
    "The volatility index can be calculated as the weighted average of the implied volatilities for several options related to a specific index. Traders use this index as an indicator of investor sentiment to identify if there is too much optimism or fear in the market and, hence, possible reversals.\n",
    "\n",
    "**Intraday Volatility**\n",
    "\n",
    "Intraday volatility uses high-frequency asset prices, representing the market fluctuations during a trading day. Intraday volatility provides much more accurate variance estimations since it uses more observations.\n",
    "\n",
    "\n",
    "**Realized Volatility**\n",
    "\n",
    "Realized volatility also uses intraday information. It's based on the realized variance introduced by Barndorff-Nielsen and Shephard (2001). Over an interval of time of a length of $T$, the realized variance can be defined as the sum of squared intraday changes over a day:\n",
    "\n",
    "\n",
    "$$\n",
    "\\{y\\}_n=\\sum_{j=1}^M\\left\\{y^*\\left((n-1) \\Delta+\\frac{\\Delta j}{M}\\right)-y^*\\left((n-1) \\Delta+\\frac{\\Delta(j-1)}{M}\\right)\\right\\}^2, \\quad n=1,2, \\ldots\n",
    "$$\n",
    "\n",
    "Here, $P$ represents the stock log prices, and $N$ is the number of intraday observations during a day.\n",
    "\n",
    "\n",
    "The realized volatility is the square root of the realized variance. It provides an efficient measure of volatility since it considers all transactions in a given day.\n",
    "\n",
    "## Dataset Overview\n",
    "\n",
    "The realized measure of volatility in the dataset is given by a realized kernel introduced by Barndorff-Nielsen et al. (2008). The realized kernel yields a more robust volatility estimation, even in noise. \n",
    "\n",
    "- **Assets**: 28 stocks + 1 ETF (SPY).\n",
    "- **Features**: Daily returns (close-to-close) and realized volatility estimates. Each feature follow the name convention: \"SYMBOL_ret\" for return and \"SYMBOL_vol\" for the volatility.\n",
    "- **Format**: Divided into train and test sets (2 files are provided).\n",
    "\n",
    "\n",
    "## Task and General Hints\n",
    "\n",
    "In this assignment, you are tasked with building a predictive regression model on equity data. Your primary goal is to ensure accurate out-of-sample predictions and evaluate them with the below-mentioned metric.\n",
    "\n",
    "**THE TARGET VARIABLE YOU HAVE TO PREDICT**\n",
    "\n",
    "This is a univariate prediction task. The target variable is already provided in both the train and the test file. The name of the target variable is **SPY_vol_t+1**. You are indeed trying to predict the volatility of the SPY ETF of the next day based on the amount of information that you have. Based on this information you can assume that all the other features in the dataset are at time $t$. Only the target is at time $t+1$ since you have to solve a forecasting problem. Do not create another target variable. \n",
    "\n",
    "To guide you through this process, consider breaking down your tasks into the following three phases:\n",
    "\n",
    "**Preprocessing**\n",
    "The dataset is already free of inconsistencies, missing values, or outliers. \n",
    "- **Feature Engineering**: You might want to create additional variables (lags, etc..) or perform transformations. Ensure that all the variables you want to use for modeling are correctly preprocessed. You don't need to use all the variables necessarily. You will eventually refine your choices while modeling.\n",
    "- **Data Splitting**: The dataset is partitioned, and two files are provided to you.\n",
    "\n",
    "**Model Selection**\n",
    "- This notebook focuses on using neural networks for regression. You can experiment with the different neural network architectures we have seen in class. Feel free to compare the performance against a linear regression model. \n",
    "\n",
    "**Model Tuning and Evaluation**\n",
    "- Once you've selected a model, you'll want to fine-tune its parameters to achieve the best out-of-sample performance.\n",
    "- You may adjust parameters manually, or you can construct a routine to fit several models with different hyperparameters. \n",
    "- Evaluate your final model using the Root Mean Squared Error (RMSE) metrics. The last cell of this notebook will also take care of it, so follow the naming convention stated at the bottom of the notebook.\n",
    "\n",
    "**Note**: Parameter choices and tuning should be made thoughtfully while it is up to you. Carefully study the documentation of the neural network models and refer to the Jupyer Notebooks we used in class to see the possible parameters you can fine-tune.\n",
    "\n",
    "**IMPORTANT REMARK**: \n",
    "You must use the test set solely as data the model has never seen before. The results on that part of the dataset are those that are going to provide your grade.\n",
    "\n",
    "Remember to set the seed when training and instantiating your model. You can use either Keras (Tensorflow) or Pytorch for this task, and you must make your results fully reproducible for grading. Double-check that you have correctly set the seed before diving into the coding part.\n",
    "\n",
    "- [Setting the seed in Keras](https://www.tensorflow.org/api_docs/python/tf/keras/utils/set_random_seed)\n",
    "- [Setting the seed in Pytorch](https://pytorch.org/docs/stable/notes/randomness.html)\n",
    "\n",
    "## Grading Rubric\n",
    "\n",
    "Your grade will be determined by the **normalized Root Mean Squared Error (RMSE)** your model achieves on the test set. Specifically, your grade will be calculated as:\n",
    "\n",
    "$$ \\text{Grade} = \\text{Normalized RMSE} \\times 100 $$\n",
    "\n",
    "which will be a number between 0 and 100. Grades may be curved before being released.\n",
    "\n",
    "The normalization for RMSE is defined as:\n",
    "\n",
    "$$ \\text{Normalized RMSE} = 1 - \\left( \\frac{\\text{RMSE}}{\\text{MAX_POSSIBLE_RMSE}} \\right) $$\n",
    "\n",
    "Where `MAX_POSSIBLE_RMSE` represents a domain-specific value that signifies the worst possible RMSE for your dataset, which could be set as the standard deviation of the target variable. This normalization ensures that the RMSE value is scaled between 0 (worst) and 1 (best).\n",
    "\n",
    "The prediction quality assessed by those metrics will result from all the choices you made when it comes to preprocessing features, including them into a model, selecting and evaluating a proper regression model, and eventually doing hyperparameter optimization. "
   ]
  },
  {
   "cell_type": "code",
   "execution_count": 1,
   "id": "73f31cb7-4846-4f78-93b2-9d109307d22b",
   "metadata": {},
   "outputs": [],
   "source": [
    "# Standard Library Imports\n",
    "import os\n",
    "import sys\n",
    "import math\n",
    "import time\n",
    "import random\n",
    "import pdb\n",
    "from collections import OrderedDict\n",
    "\n",
    "# Third-Party Scientific Computing Libraries\n",
    "import numpy as np\n",
    "import pandas as pd\n",
    "from scipy.ndimage import shift\n",
    "\n",
    "# Machine Learning Libraries\n",
    "from sklearn.svm import SVR\n",
    "from sklearn.metrics import mean_squared_error\n",
    "from sklearn.preprocessing import MinMaxScaler, StandardScaler, QuantileTransformer\n",
    "from sklearn.model_selection import train_test_split\n",
    "from sklearn.impute import SimpleImputer\n",
    "from sklearn.ensemble import RandomForestRegressor\n",
    "\n",
    "# Deep Learning Libraries - PyTorch\n",
    "import torch\n",
    "import torch.optim as optim\n",
    "import torch.nn as nn\n",
    "from torch.utils.data import Dataset, TensorDataset, DataLoader, Subset\n",
    "\n",
    "# Deep Learning Libraries - TensorFlow and Keras\n",
    "import tensorflow as tf\n",
    "import keras\n",
    "from keras import regularizers\n",
    "from keras.models import Sequential\n",
    "from keras.layers import Dense, LSTM, Dropout, BatchNormalization\n",
    "\n",
    "# Data Acquisition and Visualization Libraries\n",
    "import yfinance as yf\n",
    "import matplotlib.pyplot as plt\n",
    "from IPython.display import Image\n",
    "\n",
    "# Setting the Device\n",
    "device = 'cuda' if torch.cuda.is_available() else 'cpu'\n",
    "\n",
    "# Define the NN\n",
    "# neural network \n",
    "BATCH_SIZE = 64\n",
    "N_EPOCHS = 300\n"
   ]
  },
  {
   "cell_type": "code",
   "execution_count": 2,
   "id": "507798c8-fb38-479a-a70b-260bf47789a7",
   "metadata": {},
   "outputs": [],
   "source": [
    "df_train = pd.read_csv('train_retvol_dataset.csv')\n",
    "df_test = pd.read_csv('test_retvol_dataset.csv')\n",
    "# remove the date column\n",
    "df_train.drop(df_train.columns[0], axis=1, inplace=True)\n",
    "df_test.drop(df_test.columns[0], axis=1, inplace=True)\n"
   ]
  },
  {
   "cell_type": "markdown",
   "id": "18fb0e47-b0dd-459a-92ce-0d196fe48f59",
   "metadata": {},
   "source": [
    "# Select TOP most important features"
   ]
  },
  {
   "cell_type": "code",
   "execution_count": 3,
   "id": "e08e2f97-9b8b-4d1d-b80c-afcfcb8aca15",
   "metadata": {},
   "outputs": [],
   "source": [
    "rf_X = df_train.iloc[:, :-1]\n",
    "rf_y = df_train.iloc[:, -1]\n",
    "\n",
    "# Initialize the Random Forest model\n",
    "rf = RandomForestRegressor(n_estimators=300, random_state=42)  # or RandomForestClassifier\n",
    "rf.fit(rf_X, rf_y)\n",
    "\n",
    "# Get feature importances\n",
    "importances = rf.feature_importances_\n",
    "\n",
    "# Put the importances into a DataFrame for easier viewing\n",
    "feature_importance_df = pd.DataFrame({'Feature': rf_X.columns, 'Importance': importances})"
   ]
  },
  {
   "cell_type": "code",
   "execution_count": 4,
   "id": "9e48439f-b9d4-4966-a6da-821734dd1465",
   "metadata": {},
   "outputs": [],
   "source": [
    "feature_importance_df.sort_values(by='Importance', ascending=False, inplace=True)"
   ]
  },
  {
   "cell_type": "code",
   "execution_count": 5,
   "id": "e2d12c34-547d-42a1-8ca8-0e9d1504c45e",
   "metadata": {},
   "outputs": [],
   "source": [
    "# Sort the DataFrame to see the most important features at the top\n",
    "feature_importance_df.sort_values(by='Importance', ascending=False, inplace=True)\n",
    "features_selected = pd.concat([feature_importance_df.head(4)['Feature'], pd.Series(['SPY_vol_t+1'])])"
   ]
  },
  {
   "cell_type": "code",
   "execution_count": 6,
   "id": "199e4526-cecf-436e-b9be-cdb4f6586bc2",
   "metadata": {},
   "outputs": [],
   "source": [
    "df_train = df_train[features_selected]\n",
    "df_test = df_test[features_selected]"
   ]
  },
  {
   "cell_type": "markdown",
   "id": "33fbbbfb-257e-408e-a4bf-402d607c4407",
   "metadata": {},
   "source": [
    "# Scaling"
   ]
  },
  {
   "cell_type": "code",
   "execution_count": 7,
   "id": "b8e828af-68fe-4eb9-9365-e4e557e42c4b",
   "metadata": {},
   "outputs": [
    {
     "data": {
      "text/plain": [
       "'\\nscaler = MinMaxScaler(feature_range=(0, 1))\\nscaler.fit(df_train)\\n\\nscaled_train = scaler.transform(df_train)\\nscaled_test = scaler.transform(df_test)\\nscaled_inputs = np.concatenate((scaled_train,\\n                                scaled_test))\\n'"
      ]
     },
     "execution_count": 7,
     "metadata": {},
     "output_type": "execute_result"
    }
   ],
   "source": [
    "\"\"\"\n",
    "scaler = MinMaxScaler(feature_range=(0, 1))\n",
    "scaler.fit(df_train)\n",
    "\n",
    "scaled_train = scaler.transform(df_train)\n",
    "scaled_test = scaler.transform(df_test)\n",
    "scaled_inputs = np.concatenate((scaled_train,\n",
    "                                scaled_test))\n",
    "\"\"\""
   ]
  },
  {
   "cell_type": "code",
   "execution_count": 8,
   "id": "fe468db3-2a5d-4527-bfff-0b64f119f0eb",
   "metadata": {},
   "outputs": [],
   "source": [
    "import numpy as np\n",
    "\n",
    "# Offset to handle negative values and zeros\n",
    "offset = 1 - df_train.min()  # Assuming df_train.min() gives the minimum value for each column\n",
    "\n",
    "# Apply log transformation\n",
    "log_scaled_train = np.log(df_train + offset)\n",
    "log_scaled_test = np.log(df_test + offset)\n",
    "scaled_inputs = np.concatenate((log_scaled_train,\n",
    "                                log_scaled_test))"
   ]
  },
  {
   "cell_type": "code",
   "execution_count": 9,
   "id": "3149683c-4448-4b78-b1b5-7b52f4daaf93",
   "metadata": {},
   "outputs": [
    {
     "data": {
      "text/plain": [
       "'\\nview_train = pd.DataFrame(scaler.transform(df_train))\\nview_train.columns = df_train.columns\\n'"
      ]
     },
     "execution_count": 9,
     "metadata": {},
     "output_type": "execute_result"
    }
   ],
   "source": [
    "\"\"\"\n",
    "view_train = pd.DataFrame(scaler.transform(df_train))\n",
    "view_train.columns = df_train.columns\n",
    "\"\"\""
   ]
  },
  {
   "cell_type": "code",
   "execution_count": 10,
   "id": "51ed8ee9-5f9d-4ab1-b827-a1f57446634a",
   "metadata": {},
   "outputs": [
    {
     "data": {
      "text/plain": [
       "'view_train'"
      ]
     },
     "execution_count": 10,
     "metadata": {},
     "output_type": "execute_result"
    }
   ],
   "source": [
    "\"\"\"view_train\"\"\""
   ]
  },
  {
   "cell_type": "code",
   "execution_count": 11,
   "id": "18a7aa84-c964-4094-a3c8-c319bda9467a",
   "metadata": {},
   "outputs": [
    {
     "data": {
      "text/plain": [
       "'view_test = pd.DataFrame(scaler.transform(df_test))\\nview_test.columns = df_test.columns\\nview_test'"
      ]
     },
     "execution_count": 11,
     "metadata": {},
     "output_type": "execute_result"
    }
   ],
   "source": [
    "\"\"\"view_test = pd.DataFrame(scaler.transform(df_test))\n",
    "view_test.columns = df_test.columns\n",
    "view_test\"\"\""
   ]
  },
  {
   "cell_type": "markdown",
   "id": "cef14823-985d-4b16-afc9-f829ea8862f1",
   "metadata": {},
   "source": [
    "# Lag"
   ]
  },
  {
   "cell_type": "code",
   "execution_count": 12,
   "id": "d078a7b3-13b6-466d-a90e-9fa8451dd474",
   "metadata": {},
   "outputs": [],
   "source": [
    "TIME_PERIOD = 1 #1 indicate no lagging, I know it's kind of weird, but that what it is... I'm tired of modifying this function. A minor issue.\n",
    "def create_input_data(series, n_lags=1, n_leads=0):\n",
    "    '''\n",
    "    Function for transforming time series into input acceptable by a multilayer perceptron.\n",
    "    \n",
    "    Parameters\n",
    "    ----------\n",
    "    series : np.array\n",
    "        The time series to be transformed\n",
    "    n_lags : int\n",
    "        The number of lagged observations to consider as features, 1 indicate\n",
    "    n_leads : int\n",
    "        The number of future periods we want to forecast for\n",
    "        \n",
    "    Returns\n",
    "    -------\n",
    "    X : np.array\n",
    "        Array of features\n",
    "    y : np.array\n",
    "        Array of target\n",
    "    '''\n",
    "    X = []\n",
    "    y = []\n",
    "    for step in range(len(series) - n_lags - n_leads+1):\n",
    "        end_step = step + n_lags\n",
    "        forward_end = end_step + n_leads\n",
    "        X.append(series[step:end_step,:-1])# The last feature is the target, so it should not be inlcuded in X\n",
    "        # HERE THE CODE IS SELECTING JUST THE FIRST COLUMN AS TARGET. ONE NEEDS TO MODIFY THE SECOND INDEXING TO INCLUDE MORE THAN ONE OUTPUT AS TARGET VARIABLES\n",
    "        # FOR INSTANCE YOU MAY WANT TO WRITE y.append(series[end_step:forward_end][0]) TO TAKE ALL THE INCLUDED FEATURES AS TARGET VARIABLES (RET AND VOLUME...)\n",
    "        # y.append(series[end_step:forward_end][0][:]) THIS IS AN ALTERNATIVE WAY TO INCLUDE EVERY FEATURES AS TARGET\n",
    "        y.append(series[end_step-1:forward_end][0][-1]) #THIS WILL INCLUDE JUST THE LAST FEATURE (THE T+1 VOL IN THIS CASE) \n",
    "    return np.array(X), np.array(y)"
   ]
  },
  {
   "cell_type": "code",
   "execution_count": 13,
   "id": "46034aa2-274e-46de-a23c-b0de2cec5ae0",
   "metadata": {},
   "outputs": [],
   "source": [
    "scaled_X,scaled_y = create_input_data(scaled_inputs,TIME_PERIOD)\n"
   ]
  },
  {
   "cell_type": "markdown",
   "id": "f540d9a1-4f52-4a0f-b2fc-640daa53836e",
   "metadata": {},
   "source": [
    "# Train Test Split"
   ]
  },
  {
   "cell_type": "code",
   "execution_count": 14,
   "id": "87354cfe-4dcb-448f-9d67-4e23e36e3a59",
   "metadata": {},
   "outputs": [],
   "source": [
    "split_idx = len(scaled_X)-df_test.shape[0]"
   ]
  },
  {
   "cell_type": "code",
   "execution_count": 15,
   "id": "34b05ef9-89f4-4890-832a-3bd299ed034f",
   "metadata": {},
   "outputs": [],
   "source": [
    "X = scaled_X[:split_idx][:][:]\n",
    "X_test = scaled_X[split_idx:][:][:]\n",
    "y = scaled_y[:split_idx][:][:]\n",
    "y_test = scaled_y[split_idx:][:][:]"
   ]
  },
  {
   "cell_type": "code",
   "execution_count": 16,
   "id": "84fde6d2-345c-415c-aba8-19f442606772",
   "metadata": {},
   "outputs": [
    {
     "data": {
      "text/plain": [
       "(1312, 1, 4)"
      ]
     },
     "execution_count": 16,
     "metadata": {},
     "output_type": "execute_result"
    }
   ],
   "source": [
    "X.shape"
   ]
  },
  {
   "cell_type": "code",
   "execution_count": 17,
   "id": "83679fa3-f58c-4ee5-b82d-1a52d2fecf43",
   "metadata": {},
   "outputs": [
    {
     "data": {
      "text/plain": [
       "(327, 1, 4)"
      ]
     },
     "execution_count": 17,
     "metadata": {},
     "output_type": "execute_result"
    }
   ],
   "source": [
    "X_test.shape"
   ]
  },
  {
   "cell_type": "code",
   "execution_count": 18,
   "id": "c3056f1c-6e3b-4da3-a594-dbb8a5bcecc3",
   "metadata": {},
   "outputs": [
    {
     "data": {
      "text/plain": [
       "array([[0.66605772, 1.24062915, 1.3057641 , 1.258461  , 0.38957698],\n",
       "       [0.38957698, 1.06087884, 0.80182953, 0.9439059 , 0.55384304],\n",
       "       [0.55384304, 1.6147888 , 0.79025796, 1.03318448, 0.41828707],\n",
       "       ...,\n",
       "       [0.70998192, 2.88065368, 0.46462902, 1.38629438, 0.52079567],\n",
       "       [0.52079567, 2.91152215, 0.33214505, 1.23837426, 0.51805914],\n",
       "       [0.51805914, 3.13264962, 0.40181179, 1.30833285, 0.74283533]])"
      ]
     },
     "execution_count": 18,
     "metadata": {},
     "output_type": "execute_result"
    }
   ],
   "source": [
    "scaled_inputs"
   ]
  },
  {
   "cell_type": "markdown",
   "id": "670d3f55-7130-473e-9457-55770594a597",
   "metadata": {},
   "source": [
    "# Data Loader"
   ]
  },
  {
   "cell_type": "code",
   "execution_count": 19,
   "id": "d43547b6-2b25-4d95-8a3b-e895738220f8",
   "metadata": {},
   "outputs": [
    {
     "name": "stdout",
     "output_type": "stream",
     "text": [
      "Size of datasets - training: 1312 | Test: 327\n"
     ]
    }
   ],
   "source": [
    "#Transform the data into the form that will accepted by RNN\n",
    "#seed\n",
    "# custom function for reproducibility\n",
    "def custom_set_seed(seed):\n",
    "    torch.manual_seed(seed)\n",
    "    torch.cuda.manual_seed_all(seed)\n",
    "    torch.backends.cudnn.deterministic = True\n",
    "    torch.backends.cudnn.benchmark = False\n",
    "    np.random.seed(seed)\n",
    "    random.seed(seed)\n",
    "    os.environ['PYTHONHASHSEED'] = str(seed)\n",
    "\n",
    "custom_set_seed(42)\n",
    "#dataset loader\n",
    "X_tensor = torch.from_numpy(X).float().reshape(X.shape[0],X.shape[1],X.shape[2])\n",
    "y_tensor = torch.from_numpy(y).float().reshape(X.shape[0], 1)\n",
    "X_test_tensor = torch.from_numpy(X_test).float().reshape(X_test.shape[0],X_test.shape[1],X.shape[2])\n",
    "y_test_tensor = torch.from_numpy(y_test).float().reshape(X_test.shape[0], 1)\n",
    "\n",
    "\n",
    "train_dataset = TensorDataset(X_tensor, y_tensor)\n",
    "test_dataset = TensorDataset(X_test_tensor, y_test_tensor)\n",
    "\n",
    "train_loader = DataLoader(dataset=train_dataset, \n",
    "                          batch_size=BATCH_SIZE,\n",
    "                         shuffle = True)\n",
    "test_loader = DataLoader(dataset=test_dataset, \n",
    "                          batch_size=BATCH_SIZE)\n",
    "\n",
    "print(f'Size of datasets - training: {len(train_loader.dataset)} | Test: {len(test_loader.dataset)}')"
   ]
  },
  {
   "cell_type": "markdown",
   "id": "9f5f05e9-399b-4357-9ac9-bd24e66bfaad",
   "metadata": {},
   "source": [
    "# Build Model"
   ]
  },
  {
   "cell_type": "code",
   "execution_count": 20,
   "id": "6b8055bc-9ab0-4a91-a3ab-92f099af89e6",
   "metadata": {},
   "outputs": [],
   "source": [
    "#define the model\n",
    "\n",
    "class RNN(nn.Module):\n",
    "    def __init__(self, input_size, hidden_size, n_layers, output_size):\n",
    "        super(RNN, self).__init__()\n",
    "        self.rnn = nn.RNN(input_size, hidden_size, \n",
    "                          n_layers, batch_first=True,\n",
    "                          nonlinearity='relu')\n",
    "        self.fc = nn.Linear(hidden_size, output_size)\n",
    "    \n",
    "    def forward(self, x):\n",
    "        output, _ = self.rnn(x)\n",
    "        output = self.fc(output[:,-1,:]) \n",
    "        return output\n",
    "# instantiate the model, the loss function and the omptimizer\n",
    "\n",
    "model = RNN(input_size=X.shape[2], hidden_size=128,\n",
    "            n_layers=2, output_size=1).to(device)\n",
    "loss_fn = nn.MSELoss()\n",
    "optimizer = optim.Adam(model.parameters(), lr=0.0001)"
   ]
  },
  {
   "cell_type": "code",
   "execution_count": 21,
   "id": "81e3fa71-6c59-4250-865b-a8e90bac6b0c",
   "metadata": {},
   "outputs": [
    {
     "data": {
      "text/plain": [
       "RNN(\n",
       "  (rnn): RNN(4, 128, num_layers=2, batch_first=True)\n",
       "  (fc): Linear(in_features=128, out_features=1, bias=True)\n",
       ")"
      ]
     },
     "execution_count": 21,
     "metadata": {},
     "output_type": "execute_result"
    }
   ],
   "source": [
    "model"
   ]
  },
  {
   "cell_type": "code",
   "execution_count": 22,
   "id": "1f3cacc4-6b78-462c-8385-10086913f294",
   "metadata": {},
   "outputs": [
    {
     "name": "stdout",
     "output_type": "stream",
     "text": [
      "<0> - Train. loss: 0.6201328228 \t Test. loss: 0.6931184264\n",
      "<10> - Train. loss: 0.1725585788 \t Test. loss: 0.2213044530\n",
      "<20> - Train. loss: 0.1447456962 \t Test. loss: 0.2174695736\n",
      "<30> - Train. loss: 0.1425367023 \t Test. loss: 0.2155260703\n",
      "<40> - Train. loss: 0.1411633052 \t Test. loss: 0.2174527985\n",
      "<50> - Train. loss: 0.1410136219 \t Test. loss: 0.2151729290\n",
      "<60> - Train. loss: 0.1402756597 \t Test. loss: 0.2148034244\n",
      "<70> - Train. loss: 0.1385148157 \t Test. loss: 0.2160712519\n",
      "<80> - Train. loss: 0.1388711973 \t Test. loss: 0.2165629570\n",
      "<90> - Train. loss: 0.1366228485 \t Test. loss: 0.2174094846\n",
      "<100> - Train. loss: 0.1381596185 \t Test. loss: 0.2185958199\n",
      "<110> - Train. loss: 0.1369066413 \t Test. loss: 0.2196608943\n",
      "<120> - Train. loss: 0.1368743210 \t Test. loss: 0.2212145884\n",
      "<130> - Train. loss: 0.1360360070 \t Test. loss: 0.2221854041\n",
      "<140> - Train. loss: 0.1359082322 \t Test. loss: 0.2233889122\n",
      "<150> - Train. loss: 0.1353780206 \t Test. loss: 0.2240038986\n",
      "<160> - Train. loss: 0.1357220673 \t Test. loss: 0.2254942940\n",
      "<170> - Train. loss: 0.1358544845 \t Test. loss: 0.2263543764\n",
      "<180> - Train. loss: 0.1360544504 \t Test. loss: 0.2266309000\n",
      "<190> - Train. loss: 0.1351923401 \t Test. loss: 0.2277022697\n",
      "<200> - Train. loss: 0.1349724011 \t Test. loss: 0.2278757176\n",
      "<210> - Train. loss: 0.1347643224 \t Test. loss: 0.2294320840\n",
      "<220> - Train. loss: 0.1345200070 \t Test. loss: 0.2306825177\n",
      "<230> - Train. loss: 0.1339220045 \t Test. loss: 0.2298949102\n",
      "<240> - Train. loss: 0.1343341470 \t Test. loss: 0.2307670168\n",
      "<250> - Train. loss: 0.1351743684 \t Test. loss: 0.2307843089\n",
      "<260> - Train. loss: 0.1331230729 \t Test. loss: 0.2323344495\n",
      "<270> - Train. loss: 0.1337107689 \t Test. loss: 0.2326761065\n",
      "<280> - Train. loss: 0.1337022349 \t Test. loss: 0.2327845731\n",
      "<290> - Train. loss: 0.1332431992 \t Test. loss: 0.2334866508\n",
      "Lowest loss recorded in epoch: 36\n"
     ]
    }
   ],
   "source": [
    "PRINT_EVERY = 10\n",
    "train_losses, test_losses = [], []\n",
    "\n",
    "for epoch in range(N_EPOCHS):\n",
    "    running_loss_train = 0\n",
    "    running_loss_test = 0\n",
    "\n",
    "    model.train()\n",
    "    \n",
    "    for x_batch, y_batch in train_loader:\n",
    "        \n",
    "        optimizer.zero_grad()\n",
    "        \n",
    "        x_batch = x_batch.to(device)\n",
    "        y_batch = y_batch.to(device)\n",
    "        y_hat = model(x_batch)\n",
    "        loss = torch.sqrt(loss_fn(y_batch, y_hat))\n",
    "        loss.backward()\n",
    "        optimizer.step()\n",
    "        running_loss_train += loss.item() * x_batch.size(0)\n",
    "        \n",
    "    epoch_loss_train = running_loss_train / len(train_loader.dataset)\n",
    "    train_losses.append(epoch_loss_train)\n",
    "\n",
    "    with torch.no_grad():\n",
    "        model.eval()\n",
    "        for x_val, y_val in test_loader:\n",
    "            x_val = x_val.to(device)\n",
    "            y_val = y_val.to(device)\n",
    "            y_hat = model(x_val)\n",
    "            loss = torch.sqrt(loss_fn(y_val, y_hat))\n",
    "            running_loss_test += loss.item() * x_val.size(0)\n",
    "            \n",
    "        epoch_loss_test = running_loss_test / len(test_loader.dataset)\n",
    "            \n",
    "        if epoch > 0 and epoch_loss_test < min(test_losses):\n",
    "            best_epoch = epoch\n",
    "            torch.save(model.state_dict(), 'models/rnn_checkpoint.pth')\n",
    "            \n",
    "        test_losses.append(epoch_loss_test)\n",
    "\n",
    "    if epoch % PRINT_EVERY == 0:\n",
    "        print(f\"<{epoch}> - Train. loss: {epoch_loss_train:.10f} \\t Test. loss: {epoch_loss_test:.10f}\")\n",
    "        \n",
    "print(f'Lowest loss recorded in epoch: {best_epoch}')"
   ]
  },
  {
   "cell_type": "code",
   "execution_count": 23,
   "id": "f29ef72c-7809-416e-822e-176f43dfc520",
   "metadata": {},
   "outputs": [
    {
     "data": {
      "text/plain": [
       "<matplotlib.legend.Legend at 0x29da8c990>"
      ]
     },
     "execution_count": 23,
     "metadata": {},
     "output_type": "execute_result"
    },
    {
     "data": {
      "image/png": "[encoded data removed]",
      "text/plain": [
       "<Figure size 640x480 with 1 Axes>"
      ]
     },
     "metadata": {},
     "output_type": "display_data"
    }
   ],
   "source": [
    "train_losses = np.array(train_losses)\n",
    "test_losses = np.array(test_losses)\n",
    "\n",
    "fig, ax = plt.subplots()\n",
    "\n",
    "ax.plot(train_losses, color='blue', label='Training loss')\n",
    "ax.plot(test_losses, color='red', label='Test loss')\n",
    "\n",
    "ax.set(title=\"Loss over epochs\", \n",
    "       xlabel='Epoch', \n",
    "       ylabel='Loss')\n",
    "ax.legend()"
   ]
  },
  {
   "cell_type": "code",
   "execution_count": 24,
   "id": "dfa85ee5-76bc-4113-9e26-1d085f165c71",
   "metadata": {},
   "outputs": [
    {
     "data": {
      "text/plain": [
       "<All keys matched successfully>"
      ]
     },
     "execution_count": 24,
     "metadata": {},
     "output_type": "execute_result"
    }
   ],
   "source": [
    "state_dict = torch.load('models/rnn_checkpoint.pth')\n",
    "model.load_state_dict(state_dict)"
   ]
  },
  {
   "cell_type": "code",
   "execution_count": 25,
   "id": "cce8e3e0-7698-4ba8-91c9-b0ccba80af64",
   "metadata": {},
   "outputs": [],
   "source": [
    "y_test_pred = []\n",
    "\n",
    "with torch.no_grad():\n",
    "    model.eval()\n",
    "    for x_val, y_val in test_loader:\n",
    "        x_val = x_val.to(device)\n",
    "        y_hat = model(x_val)\n",
    "        y_test_pred.append(y_hat)\n",
    "\n",
    "y_test_pred = torch.cat(y_test_pred).cpu().numpy().flatten()"
   ]
  },
  {
   "cell_type": "code",
   "execution_count": 26,
   "id": "c43a744e-1659-47a5-a3cc-3a1491c5696c",
   "metadata": {},
   "outputs": [],
   "source": [
    "# Convert from log form back into original form\n",
    "y_test_pred = np.exp(y_test_pred) - offset[-1]\n",
    "y_test = np.exp(y_test) - offset[-1]"
   ]
  },
  {
   "cell_type": "code",
   "execution_count": 27,
   "id": "3d65a748-9d60-4bd0-aaca-010b51c5fa48",
   "metadata": {},
   "outputs": [
    {
     "name": "stdout",
     "output_type": "stream",
     "text": [
      "RNN's forecast - MSE: 0.3956574769, RMSE: 0.6290130976\n"
     ]
    },
    {
     "data": {
      "text/plain": [
       "<matplotlib.legend.Legend at 0x29da8c590>"
      ]
     },
     "execution_count": 27,
     "metadata": {},
     "output_type": "execute_result"
    },
    {
     "data": {
      "image/png": "[encoded data removed]",
      "text/plain": [
       "<Figure size 1000x800 with 1 Axes>"
      ]
     },
     "metadata": {},
     "output_type": "display_data"
    }
   ],
   "source": [
    "rnn_mse = mean_squared_error(y_test, y_test_pred)\n",
    "rnn_rmse = np.sqrt(rnn_mse)\n",
    "print(f\"RNN's forecast - MSE: {rnn_mse:.10f}, RMSE: {rnn_rmse:.10f}\")\n",
    "\n",
    "fig, ax = plt.subplots(figsize=(10,8))\n",
    "\n",
    "ax.plot(y_test, color='blue', label='Actual', alpha=0.5)\n",
    "ax.plot(y_test_pred, color='red', label='RNN')\n",
    "#ax.plot(naive_pred, color='green', label='Naïve',alpha=0.5)\n",
    "\n",
    "ax.set(title=\"RNN's Forecasts\", \n",
    "       xlabel='Time', \n",
    "       ylabel='VolatiliyT+1')\n",
    "ax.legend()\n"
   ]
  },
  {
   "cell_type": "markdown",
   "id": "31d33b67-700b-44ad-949c-d70ed2667150",
   "metadata": {
    "deletable": false,
    "editable": false,
    "tags": []
   },
   "source": [
    "**Instructions to let the next code cell run:**\n",
    "\n",
    "Before running the cell below, ensure the following:\n",
    "1. The target variable of your problem has to be named exactly `y_test`, while the out-of-sample prediction variable has to be named `y_test_pred`. Also the calculation of `MAX_POSSIBLE_RMSE` relies on this naming convention to determine the standard deviation of the test target values. \n",
    "\n",
    "By adhering to these naming conventions, the grading cell can compute the final score without any issues."
   ]
  },
  {
   "cell_type": "code",
   "execution_count": 28,
   "id": "35dd6ac5-e25f-4866-94b6-3773918dda59",
   "metadata": {
    "tags": []
   },
   "outputs": [
    {
     "name": "stdout",
     "output_type": "stream",
     "text": [
      "The grade for this assignment is  37\n"
     ]
    }
   ],
   "source": [
    "import math\n",
    "import numpy as np\n",
    "\n",
    "def evaluate(y_test, y_test_pred):\n",
    "    \"\"\"\n",
    "    Function to calculate RMSE for one-dimensional arrays\n",
    "    \"\"\"\n",
    "    mse = np.mean((y_test - y_test_pred) ** 2)\n",
    "    rmse = np.sqrt(mse)\n",
    "    return rmse\n",
    "\n",
    "rmse = evaluate(y_test, y_test_pred)\n",
    "\n",
    "MAX_POSSIBLE_RMSE = y_test.std()\n",
    "normalized_rmse = (1 - rmse / MAX_POSSIBLE_RMSE)\n",
    "\n",
    "Grade = normalized_rmse\n",
    "print('The grade for this assignment is ', math.ceil(Grade * 100))"
   ]
  }
 ],
 "metadata": {
  "kernelspec": {
   "display_name": "classenv",
   "language": "python",
   "name": "classenv"
  },
  "language_info": {
   "codemirror_mode": {
    "name": "ipython",
    "version": 3
   },
   "file_extension": ".py",
   "mimetype": "text/x-python",
   "name": "python",
   "nbconvert_exporter": "python",
   "pygments_lexer": "ipython3",
   "version": "3.11.5"
  }
 },
 "nbformat": 4,
 "nbformat_minor": 5
}
